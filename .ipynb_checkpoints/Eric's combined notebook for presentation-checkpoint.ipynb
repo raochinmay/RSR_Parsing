{
 "cells": [
  {
   "cell_type": "code",
   "execution_count": 35,
   "metadata": {
    "collapsed": true
   },
   "outputs": [],
   "source": [
    "#all imports\n",
    "import re\n",
    "import pandas\n",
    "import string\n",
    "import nltk\n",
    "from nltk.corpus import stopwords\n",
    "from nltk.stem import PorterStemmer\n",
    "from nltk.tokenize import WordPunctTokenizer\n",
    "from nltk.collocations import BigramCollocationFinder\n",
    "from nltk.metrics import BigramAssocMeasures\n",
    "from nltk.tokenize import RegexpTokenizer\n",
    "from nltk import ngrams\n",
    "from fuzzywuzzy.process import dedupe\n",
    "import pandas as pd\n",
    "import requests\n",
    "from bs4 import BeautifulSoup\n",
    "import os\n",
    "from IPython.display import HTML"
   ]
  },
  {
   "cell_type": "code",
   "execution_count": 36,
   "metadata": {
    "collapsed": true
   },
   "outputs": [],
   "source": [
    "#import path & variables\n",
    "\n",
    "\n",
    "#import and tokenize resume\n",
    "resume_path = r\"/Users/yiyangzhou/Desktop/Yiyang (Eric) Zhou Resume 2017 Fall.txt\"\n",
    "#resume_path = r\"/Users/yiyangzhou/Desktop/Zeng_Leah_Resume.txt\"\n",
    "resume_file = open(resume_path).read()\n",
    "resume_file2 = open(resume_path).read()\n",
    "resume_file2 = resume_file2.lower()\n",
    "\n",
    "#import a list of majors \n",
    "major_df = pandas.read_excel('majors.xlsx')\n",
    "major_df.columns\n",
    "major_file = major_df['Majors'].values\n",
    "major_lower = [item.lower() for item in major_file]\n",
    "tokenizer = RegexpTokenizer(r'\\w+')\n",
    "resume_token = tokenizer.tokenize(resume_file) \n",
    "resume_token2 = tokenizer.tokenize(resume_file2)\n",
    "updated_majors1 = []\n",
    "indexes_majors1 = []\n",
    "updated_majors2 = []\n",
    "indexes_majors2 = []\n",
    "updated_majors3 = []\n",
    "indexes_majors3 = []\n",
    "updated_majors4 = []\n",
    "indexes_majors4 = []\n",
    "majors_minors_all = updated_majors1 + updated_majors2 + updated_majors3 + updated_majors4\n",
    "\n",
    "#import a list of universities\n",
    "university_df1 = pandas.read_excel('China_University.xlsx')\n",
    "university_df2 = pandas.read_excel('India_University.xlsx')\n",
    "university_df3 = pandas.read_excel('US_University.xlsx')\n",
    "university_file1 = university_df1['Universities'].values\n",
    "university_file2 = university_df2['Universities'].values\n",
    "university_file3 = university_df3['Universities'].values\n",
    "university_lower1 = [item.lower() for item in university_file1]\n",
    "university_lower2 = [item.lower() for item in university_file2]\n",
    "university_lower3 = [item.lower() for item in university_file3]\n",
    "university_combined = university_lower1 + university_lower2 + university_lower3\n"
   ]
  },
  {
   "cell_type": "code",
   "execution_count": 37,
   "metadata": {},
   "outputs": [
    {
     "name": "stdout",
     "output_type": "stream",
     "text": [
      "Yiyang(Eric)Zhou\n"
     ]
    }
   ],
   "source": [
    "#extract name \n",
    "\n",
    "def extract_first_name(resume):\n",
    "    name = resume.split('\\n', 1)[0]\n",
    "    first_name = name.split(' ', 1)[0]\n",
    "    return (first_name)\n",
    "    print (first_name)\n",
    "    \n",
    "def extract_last_name(resume):\n",
    "    name = resume.split('\\n', 1)[0]\n",
    "    last_name = name.split(' ', 1)[-1]\n",
    "    return (last_name)\n",
    "    print (last_name)\n",
    "    \n",
    "def extract_name(resume):\n",
    "    name = extract_first_name(resume_file) + extract_last_name(resume_file)\n",
    "    print (name)\n",
    "    \n",
    "extract_name(resume_file)"
   ]
  },
  {
   "cell_type": "code",
   "execution_count": 38,
   "metadata": {},
   "outputs": [
    {
     "name": "stdout",
     "output_type": "stream",
     "text": [
      "yiyang.zhou@rhsmith.umd.edu\n"
     ]
    }
   ],
   "source": [
    "#extract email\n",
    "\n",
    "def extract_email(resume):\n",
    "    regular_expression = re.compile(r\"(\\w+[.|\\w])*@(\\w+[.])*\\w+\", re.IGNORECASE)\n",
    "    result = re.search(regular_expression, resume)\n",
    "    if result:\n",
    "        result = result.group()\n",
    "    print (result)\n",
    "\n",
    "extract_email(resume_file)"
   ]
  },
  {
   "cell_type": "code",
   "execution_count": 39,
   "metadata": {},
   "outputs": [
    {
     "data": {
      "text/plain": [
       "'6125162045'"
      ]
     },
     "execution_count": 39,
     "metadata": {},
     "output_type": "execute_result"
    }
   ],
   "source": [
    "#extract phone number\n",
    "\n",
    "def check_phone_number1(resume):\n",
    "    resume2 = \"\".join(c for c in resume if c not in ('!','.','-','(',')',' ','+',))\n",
    "    result = re.findall(r\"\\d{10}\", resume2)                   \n",
    "    result = ''.join(result)\n",
    "    return (result)\n",
    "\n",
    "def check_phone_number2(resume):\n",
    "    resume2 = \"\".join(c for c in resume if c not in ('!','.','-','(',')',' ','+',))\n",
    "    result = re.findall(r\"\\d{11}\", resume2)                   \n",
    "    result = ''.join(result)\n",
    "    result = result[1:11]\n",
    "    return (result)\n",
    "\n",
    "def extract_phone_number(resume):\n",
    "    try:\n",
    "        return check_phone_number1(resume) \n",
    "        print (check_phone_number1(resume))\n",
    "    except:\n",
    "        return check_phone_number2(resume)\n",
    "        print (check_phone_number2(resume))\n",
    "\n",
    "extract_phone_number(resume_file)"
   ]
  },
  {
   "cell_type": "code",
   "execution_count": 40,
   "metadata": {},
   "outputs": [
    {
     "name": "stdout",
     "output_type": "stream",
     "text": [
      "                                              0\n",
      "0                        Lindsey Wilson College\n",
      "1                                Morris College\n",
      "2                  Maranatha Baptist University\n",
      "3                  Alderson Broaddus University\n",
      "4                              Piedmont College\n",
      "5                               Roanoke College\n",
      "6                    University of Saint Joseph\n",
      "7                     Francis Marion University\n",
      "8                   Florida Atlantic University\n",
      "9          Eastern Connecticut State University\n",
      "10                         Northwest University\n",
      "11                 Providence Christian College\n",
      "12                  Loyola Marymount University\n",
      "13                         Northwestern College\n",
      "14                               Peirce College\n",
      "15                          Spring Hill College\n",
      "16                            Asbury University\n",
      "17                     Columbia College Chicago\n",
      "18                               Austin College\n",
      "19                         Emmaus Bible College\n",
      "20                   Kansas Wesleyan University\n",
      "21                     Cranbrook Academy of Art\n",
      "22                         Rhode Island College\n",
      "23                   Fitchburg State University\n",
      "24                       Weber State University\n",
      "25                   College of Saint Elizabeth\n",
      "26                             Baker University\n",
      "27                    Colorado State University\n",
      "28                              Drew University\n",
      "29             Mid-America Christian University\n",
      "...                                         ...\n",
      "1770                        Monmouth University\n",
      "1771                   University of Bridgeport\n",
      "1772     Northwestern Oklahoma State University\n",
      "1773               The John Marshall Law School\n",
      "1774                            Lynn University\n",
      "1775                       Graceland University\n",
      "1776                      Edward Waters College\n",
      "1777                        Wesleyan University\n",
      "1778                  University of Mississippi\n",
      "1779  Benjamin Franklin Institute of Technology\n",
      "1780                              Unity College\n",
      "1781                  National-Louis University\n",
      "1782                       Northwood University\n",
      "1783                   Georgia Gwinnett College\n",
      "1784                         Providence College\n",
      "1785                  Kentucky Wesleyan College\n",
      "1786                              Coker College\n",
      "1787                            Ohio University\n",
      "1788  University of Maryland University College\n",
      "1789                            Post University\n",
      "1790                  Beulah Heights University\n",
      "1791                          Principia College\n",
      "1792               United States Sports Academy\n",
      "1793    Lake Washington Institute of Technology\n",
      "1794                      Grand View University\n",
      "1795                Pacific Lutheran University\n",
      "1796                            Simpson College\n",
      "1797   University of Maryland, Baltimore County\n",
      "1798                       Castleton University\n",
      "1799                      Wilmington University\n",
      "\n",
      "[1800 rows x 1 columns]\n"
     ]
    }
   ],
   "source": [
    "#scraping tools\n",
    "\n",
    "r = requests.get('http://www.4icu.org/us/')\n",
    "soup = BeautifulSoup(r.content, \"lxml\")\n",
    "letters = soup.find_all(class_=\"lead\")\n",
    "\n",
    "university = {}\n",
    "for element in letters:\n",
    "    university[element.get_text()] = {}\n",
    "    \n",
    "list_keys = [ k for k in university.keys() ]\n",
    "\n",
    "us_university_list = pd.DataFrame(list_keys)\n",
    "print (us_university_list)"
   ]
  },
  {
   "cell_type": "code",
   "execution_count": 41,
   "metadata": {},
   "outputs": [
    {
     "name": "stdout",
     "output_type": "stream",
     "text": [
      "{'university of maryland', 'university of minnesota'}\n"
     ]
    }
   ],
   "source": [
    "#Extract University\n",
    "\n",
    "def get_bigrams(input):\n",
    "    n = 2\n",
    "    result = []\n",
    "    bigrams = ngrams(input, n)\n",
    "    for grams in bigrams:\n",
    "        x = \"%s %s\" % grams\n",
    "        result.append(x)\n",
    "    return (result)    \n",
    "    print (result)\n",
    "\n",
    "\n",
    "test1 = get_bigrams(resume_token)\n",
    "#print (test1)\n",
    "\n",
    "def get_threegrams(input):\n",
    "    n = 3\n",
    "    result = []\n",
    "    threegrams = ngrams(input, n)\n",
    "    for grams in threegrams:\n",
    "        x = \"%s %s %s\" % grams\n",
    "        result.append(x)\n",
    "    return (result)    \n",
    "    print (result)\n",
    "\n",
    "test2 = get_threegrams(resume_token)\n",
    "#print (test2)\n",
    "\n",
    "def get_fourgrams(input):\n",
    "    n = 4\n",
    "    result = []\n",
    "    fourgrams = ngrams(input, n)\n",
    "    for grams in fourgrams:\n",
    "        x = \"%s %s %s %s\" % grams\n",
    "        result.append(x)\n",
    "    return (result)    \n",
    "    print (result)\n",
    "\n",
    "test3 = get_fourgrams(resume_token)\n",
    "#print (test3)\n",
    "\n",
    "def get_fivegrams(input):\n",
    "    n = 5\n",
    "    result = []\n",
    "    fivegrams = ngrams(input, n)\n",
    "    for grams in fivegrams:\n",
    "        x = \"%s %s %s %s %s\" % grams\n",
    "        result.append(x)\n",
    "    return (result)    \n",
    "    print (result)\n",
    "\n",
    "test4 = get_fivegrams(resume_token)\n",
    "#print (test4)\n",
    "\n",
    "def get_sixgrams(input):\n",
    "    n = 6\n",
    "    result = []\n",
    "    sixgrams = ngrams(input, n)\n",
    "    for grams in sixgrams:\n",
    "        x = \"%s %s %s %s %s %s\" % grams\n",
    "        result.append(x)\n",
    "    return (result)    \n",
    "    print (result)\n",
    "\n",
    "\n",
    "def get_university(a,b):\n",
    "    resume_university=[]\n",
    "    for x in a:\n",
    "        if x in b:\n",
    "            resume_university.append(x)\n",
    "    return (resume_university)\n",
    "    print (resume_university)\n",
    "\n",
    "def extract_university(resume_token_lower,university_combined):\n",
    "    unigram_university = get_university(resume_token_lower, university_combined)  \n",
    "    bigram_university = get_university(get_bigrams(resume_token_lower), university_combined)\n",
    "    threegram_university = get_university(get_threegrams(resume_token_lower), university_combined)\n",
    "    fourgram_university = get_university(get_fourgrams(resume_token_lower), university_combined)\n",
    "    fivegram_university = get_university(get_fivegrams(resume_token_lower), university_combined)\n",
    "    sixgram_university = get_university(get_sixgrams(resume_token_lower), university_combined)\n",
    "    combined_university_extraction = set(bigram_university + threegram_university + fourgram_university + fivegram_university + sixgram_university)\n",
    "    print (combined_university_extraction)\n",
    "\n",
    "extract_university(resume_token2,university_combined)\n",
    "\n"
   ]
  },
  {
   "cell_type": "code",
   "execution_count": 42,
   "metadata": {},
   "outputs": [
    {
     "data": {
      "text/plain": [
       "'GPA:3.43'"
      ]
     },
     "execution_count": 42,
     "metadata": {},
     "output_type": "execute_result"
    }
   ],
   "source": [
    "#extract GPA:\n",
    "def extract_GPA(resume):\n",
    "    result = re.search(r'(GPA|gpa): ?\\d.\\d{1,}',resume)\n",
    "    if result:\n",
    "        result = result.group(0)\n",
    "    return (result)\n",
    "    print (result)\n",
    "\n",
    "extract_GPA(resume_file)"
   ]
  },
  {
   "cell_type": "code",
   "execution_count": 43,
   "metadata": {},
   "outputs": [
    {
     "name": "stdout",
     "output_type": "stream",
     "text": [
      "['education', 'business', 'information', 'management', 'accounting', 'finance', 'insurance', 'web', 'development', 'home', 'specialist', 'history', 'analyst', 'marketing', 'english', 'information system', 'accounting and finance']\n"
     ]
    }
   ],
   "source": [
    "#extract majors:\n",
    "\n",
    "def extract_majors(a,b):\n",
    "    majors=[]\n",
    "    for x in a:\n",
    "        if x in b:\n",
    "            majors.append(x)\n",
    "    return (majors)\n",
    "    print (majors)\n",
    "    \n",
    "unigram_major = extract_majors(resume_token2, major_lower)  \n",
    "bigram_major = extract_majors(get_bigrams(resume_token2), major_lower)\n",
    "threegram_major = extract_majors(get_threegrams(resume_token2), major_lower)\n",
    "combined_majors_list = unigram_major + bigram_major + threegram_major\n",
    "\n",
    "major_distinct = []\n",
    "for i in combined_majors_list:\n",
    "    if i not in major_distinct:\n",
    "        major_distinct.append(i)\n",
    "        \n",
    "#print (combined_majors_list)\n",
    "print (major_distinct)\n",
    "\n"
   ]
  },
  {
   "cell_type": "code",
   "execution_count": 44,
   "metadata": {},
   "outputs": [
    {
     "name": "stdout",
     "output_type": "stream",
     "text": [
      "{'marketing': 2670, 'information': 220, 'development': 831, 'history': 1158, 'business': 144, 'english': 3176, 'information system': 220, 'analyst': 2232, 'home': 986, 'accounting': 395, 'accounting and finance': 395, 'education': 108, 'finance': 410, 'insurance': 426, 'web': 735, 'management': 305, 'specialist': 1015}\n"
     ]
    }
   ],
   "source": [
    "#get major indexes \n",
    "dict = {'Name': 5}\n",
    "for i, element in enumerate(major_distinct):\n",
    "   x = resume_file2.find(element)\n",
    "   dict[element] = x\n",
    "   \n",
    "\n",
    "del dict['Name']\n",
    "print(dict)"
   ]
  },
  {
   "cell_type": "code",
   "execution_count": 45,
   "metadata": {},
   "outputs": [
    {
     "name": "stdout",
     "output_type": "stream",
     "text": [
      "Bachelor of Science\n",
      "358\n",
      "Minor\n",
      "419\n",
      "Master\n",
      "199\n",
      "University\n",
      "154\n"
     ]
    }
   ],
   "source": [
    "#get indexes for specific terms\n",
    "\n",
    "#bachelor\n",
    "regular_expression = re.compile(r\"/BA|BS|Bachelor of Science|Bachelor of Arts|BBA |B/A|Bachelor of Business Administration/\", re.IGNORECASE)\n",
    "bach_major_result = re.search(regular_expression, resume_file)\n",
    "if bach_major_result:\n",
    "   bach_major_result = bach_major_result.group()\n",
    "print (bach_major_result)\n",
    "\n",
    "if bach_major_result is not None:\n",
    "    bach_major_index = resume_file.find(bach_major_result)\n",
    "    print(bach_major_index)\n",
    "    \n",
    "#minor\n",
    "regular_expression_two = re.compile(r\"minor|Minor\", re.IGNORECASE)\n",
    "minor_result = re.search(regular_expression_two, resume_file)\n",
    "if minor_result:\n",
    "   minor_result = minor_result.group()\n",
    "print (minor_result)\n",
    "\n",
    "if minor_result is not None:\n",
    "    minor_index = resume_file.find(minor_result)\n",
    "    print(minor_index)\n",
    "\n",
    "#master\n",
    "regular_expression_three = re.compile(r\"Master|master\", re.IGNORECASE)\n",
    "master_major_result = re.search(regular_expression_three, resume_file)\n",
    "if master_major_result:\n",
    "   master_major_result = master_major_result.group()\n",
    "print (master_major_result)\n",
    "\n",
    "if master_major_result is not None:\n",
    "    master_major_index = resume_file.find(master_major_result)\n",
    "    print(master_major_index)\n",
    "    \n",
    "#university\n",
    "regular_expression_four = re.compile(r\"university\", re.IGNORECASE)\n",
    "university_major_result = re.search(regular_expression_four, resume_file)\n",
    "if university_major_result:\n",
    "   university_major_result = university_major_result.group()\n",
    "print (university_major_result)\n",
    "\n",
    "if university_major_result is not None:\n",
    "    university_major_index = resume_file.find(university_major_result)\n",
    "    print(university_major_index)"
   ]
  },
  {
   "cell_type": "code",
   "execution_count": 46,
   "metadata": {},
   "outputs": [
    {
     "name": "stdout",
     "output_type": "stream",
     "text": [
      "['accounting', 'accounting and finance', 'finance', 'insurance']\n",
      "[395, 395, 410, 426]\n",
      "['information', 'information system']\n",
      "[220, 220]\n",
      "['information', 'information system']\n",
      "[220, 220]\n",
      "['insurance']\n",
      "[426]\n"
     ]
    }
   ],
   "source": [
    "upper_bound1 = bach_major_index+100\n",
    "for k, v in dict.items():\n",
    "   if (bach_major_index < v < upper_bound1):\n",
    "       updated_majors1.append(k)\n",
    "       indexes_majors1.append(v)\n",
    "print(updated_majors1)\n",
    "print(indexes_majors1)\n",
    "\n",
    "upper_bound2 = master_major_index+100\n",
    "for k, v in dict.items():\n",
    "   if (master_major_index < v < upper_bound2):\n",
    "       updated_majors2.append(k)\n",
    "       indexes_majors2.append(v)\n",
    "print(updated_majors2)\n",
    "print(indexes_majors2)\n",
    "\n",
    "upper_bound3 = university_major_index+100\n",
    "for k, v in dict.items():\n",
    "   if (university_major_index < v < upper_bound3):\n",
    "       updated_majors3.append(k)\n",
    "       indexes_majors3.append(v)\n",
    "print(updated_majors3)\n",
    "print(indexes_majors3)\n",
    "\n",
    "upper_bound4 = minor_index+100\n",
    "for k, v in dict.items():\n",
    "   if (minor_index < v < upper_bound4):\n",
    "       updated_majors4.append(k)\n",
    "       indexes_majors4.append(v)\n",
    "print(updated_majors4)\n",
    "print(indexes_majors4)"
   ]
  },
  {
   "cell_type": "code",
   "execution_count": 47,
   "metadata": {},
   "outputs": [
    {
     "name": "stdout",
     "output_type": "stream",
     "text": [
      "['information system', 'insurance', 'accounting and finance']\n"
     ]
    }
   ],
   "source": [
    "majors_minors_all = updated_majors1 + updated_majors2 + updated_majors3 + updated_majors4\n",
    "majors_minors_final_list = list(dedupe(majors_minors_all))\n",
    "print (majors_minors_final_list)"
   ]
  },
  {
   "cell_type": "code",
   "execution_count": null,
   "metadata": {
    "collapsed": true
   },
   "outputs": [],
   "source": []
  }
 ],
 "metadata": {
  "anaconda-cloud": {},
  "kernelspec": {
   "display_name": "parseVirt",
   "language": "python",
   "name": "parsevirt"
  },
  "language_info": {
   "codemirror_mode": {
    "name": "ipython",
    "version": 3
   },
   "file_extension": ".py",
   "mimetype": "text/x-python",
   "name": "python",
   "nbconvert_exporter": "python",
   "pygments_lexer": "ipython3",
   "version": "3.5.2"
  }
 },
 "nbformat": 4,
 "nbformat_minor": 1
}
