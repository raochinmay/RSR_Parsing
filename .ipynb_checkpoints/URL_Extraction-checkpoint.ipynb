{
 "cells": [
  {
   "cell_type": "code",
   "execution_count": 1,
   "metadata": {
    "collapsed": true
   },
   "outputs": [],
   "source": [
    "# import all headers\n",
    "import re\n",
    "import os"
   ]
  },
  {
   "cell_type": "code",
   "execution_count": 2,
   "metadata": {
    "collapsed": true
   },
   "outputs": [],
   "source": [
    "# function to extract all URLs\n",
    "# implemented using regex\n",
    "def extract_URLs(parsedResume):\n",
    "    parsedResume = parsedResume.replace('\\n', ' ')\n",
    "    regex = regex = re.compile('(?:(?:https?|ftp|file)://|www\\.|ftp\\.)[-A-Z0-9+&@#/%=~_|$?!:,.]*[A-Z0-9+&@#/%=~_|$]', re.IGNORECASE)\n",
    "    result = re.findall(regex, parsedResume)\n",
    "    #if result:\n",
    "        #result = result.group()\n",
    "    return result"
   ]
  },
  {
   "cell_type": "code",
   "execution_count": 6,
   "metadata": {
    "collapsed": true
   },
   "outputs": [],
   "source": [
    "# function to extract LinkedIN Profile\n",
    "# implemented using regex\n",
    "def extract_linkedin(parsedResume):\n",
    "    parsedResume = parsedResume.replace('\\n', ' ')\n",
    "    regex = re.compile(r\"https://www.linkedin.com/in/([a-zA-Z]|[0-9]|[-])+/?\")\n",
    "    result = re.search(regex, parsedResume)\n",
    "    if result:\n",
    "        result = result.group()\n",
    "    return result"
   ]
  },
  {
   "cell_type": "code",
   "execution_count": 14,
   "metadata": {},
   "outputs": [
    {
     "name": "stdout",
     "output_type": "stream",
     "text": [
      "URLs in Test Resumes\n",
      "Resume  1 :\n",
      "All URLs =>  []\n",
      "LinkedIn Profiles =>  None\n",
      "Resume  2 :\n",
      "All URLs =>  []\n",
      "LinkedIn Profiles =>  None\n",
      "Resume  3 :\n",
      "All URLs =>  []\n",
      "LinkedIn Profiles =>  None\n",
      "Resume  4 :\n",
      "All URLs =>  []\n",
      "LinkedIn Profiles =>  None\n",
      "Resume  5 :\n",
      "All URLs =>  ['https://www.linkedin.com/in/ashish-aggarwal-33b276109/', 'https://trello.com/b/P2u8g369/pmi-summer-2017?menu=filter&filter=label:green']\n",
      "LinkedIn Profiles =>  https://www.linkedin.com/in/ashish-aggarwal-33b276109/\n",
      "Resume  6 :\n",
      "All URLs =>  []\n",
      "LinkedIn Profiles =>  None\n",
      "Resume  7 :\n",
      "All URLs =>  []\n",
      "LinkedIn Profiles =>  None\n",
      "Resume  8 :\n",
      "All URLs =>  ['http://apireferencedocs.codebase.ebay.com', 'http://www.phoons.com/john/classes/coursesTaught.html']\n",
      "LinkedIn Profiles =>  None\n"
     ]
    }
   ],
   "source": [
    "# TESTING\n",
    "# path where all resumes are located\n",
    "test_resume_path = '/Users/Ashish/Desktop/Internship/Personal/Test Resumes'\n",
    "counter = 0\n",
    "\n",
    "print(\"URLs in Test Resumes\")\n",
    "for filename in os.listdir(test_resume_path):\n",
    "    # print(filename)\n",
    "    if '.txt' in filename:\n",
    "        counter = counter + 1\n",
    "        resume_path= os.path.join('Test Resumes', filename)\n",
    "        test_resume = open(resume_path, 'r').read()\n",
    "    \n",
    "        print(\"Resume \", (counter), \":\")\n",
    "        print(\"All URLs => \", extract_URLs(test_resume))\n",
    "        print(\"LinkedIn Profiles => \", extract_linkedin(test_resume))"
   ]
  },
  {
   "cell_type": "code",
   "execution_count": null,
   "metadata": {
    "collapsed": true
   },
   "outputs": [],
   "source": []
  }
 ],
 "metadata": {
  "kernelspec": {
   "display_name": "parseVirt",
   "language": "python",
   "name": "parsevirt"
  },
  "language_info": {
   "codemirror_mode": {
    "name": "ipython",
    "version": 3
   },
   "file_extension": ".py",
   "mimetype": "text/x-python",
   "name": "python",
   "nbconvert_exporter": "python",
   "pygments_lexer": "ipython3",
   "version": "3.5.2"
  }
 },
 "nbformat": 4,
 "nbformat_minor": 2
}
