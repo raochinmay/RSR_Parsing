{
 "cells": [
  {
   "cell_type": "code",
   "execution_count": 4,
   "metadata": {},
   "outputs": [
    {
     "name": "stdout",
     "output_type": "stream",
     "text": [
      "Email Address: uskostin@gmail.com\n",
      "Contact Number: 321-236-9058\n",
      "Linkedin Profile: None\n",
      "GitHub Profile: None\n"
     ]
    }
   ],
   "source": [
    "import csv\n",
    "import re\n",
    "\n",
    "#Email Address\n",
    "def check_email(string_to_search):\n",
    "    regular_expression = re.compile(r\"[A-Z0-9._%+-]+@[A-Z0-9.-]+\\.[A-Z]{2,3}\", re.IGNORECASE)\n",
    "    result = re.search(regular_expression, string_to_search)\n",
    "    if result:\n",
    "        result = result.group()\n",
    "    return result\n",
    "    #except:\n",
    "     #   result=0\n",
    "      #  return result\n",
    "\n",
    "#LinkedIn Address\n",
    "def check_linkedin(string_to_search):\n",
    "    regular_expression1 = re.compile(r\"https://\"\n",
    "                                    r\"[A-Z]{2,3}\"\n",
    "                                    r\".linkedin.com/in/\"\n",
    "                                    r\"[-_a-z 0-9]{5,30}\", re.IGNORECASE)\n",
    "    result = re.search(regular_expression1, string_to_search)\n",
    "    try:\n",
    "        result = result.group()\n",
    "        return result\n",
    "    except:\n",
    "        regular_expression1 = re.compile(r\"[A-Z]{2,3}\"\n",
    "                                        r\".linkedin.com/in/\"\n",
    "                                        r\"[-_a-z 0-9]{5,30}\", re.IGNORECASE)\n",
    "        result = re.search(regular_expression1, string_to_search)\n",
    "        try:\n",
    "            result=result.group()\n",
    "            return result\n",
    "        except:\n",
    "            regular_expression1 = re.compile(r\"[A-Z]{2,3}\"\n",
    "                                        r\".linkedin.com/\"\n",
    "                                        r\"[-_a-z 0-9]{5,30}\", re.IGNORECASE)\n",
    "            result = re.search(regular_expression1, string_to_search)\n",
    "            try:\n",
    "                result=result.group()\n",
    "                return result\n",
    "            except:\n",
    "                return None\n",
    "\n",
    "#GitHub Address\n",
    "def check_GitHub(string_to_search):\n",
    "    regular_expression = re.compile(r\"https://github.com/\"\n",
    "                                    r\"[-_A-Z0-9]{5,30}\", re.IGNORECASE)\n",
    "    result = re.search(regular_expression, string_to_search)\n",
    "    try:\n",
    "        result = result.group()\n",
    "        return result\n",
    "    except:\n",
    "        return None\n",
    "\n",
    "#Contact Number\n",
    "def check_phone_number(string_to_search):\n",
    "    try:\n",
    "        regular_expression = re.compile(r\"\\(?\"  # open parenthesis\n",
    "                                        r\"(\\d{3})?\"  # area code\n",
    "                                        r\"\\)?\"  # close parenthesis\n",
    "                                        r\"[\\s\\.-]{0,2}?\"  # area code, phone separator\n",
    "                                        r\"(\\d{3})\"  # 3 digit exchange\n",
    "                                        r\"[\\s\\.-]{0,2}\"  # separator bbetween 3 digit exchange, 4 digit local\n",
    "                                        r\"(\\d{4})\",  # 4 digit local\n",
    "                                        re.IGNORECASE)\n",
    "        result = re.search(regular_expression, string_to_search)\n",
    "        if result:\n",
    "            result = result.groups()\n",
    "            result = \"-\".join(result)\n",
    "        return result\n",
    "    except:\n",
    "        return None\n",
    "\n",
    "def main():\n",
    "#    with open('Resume_Test.txt', 'r',encoding=\"utf8\") as myfile:\n",
    "    with open('Resume_Test.txt', 'r') as myfile:\n",
    "        data=myfile.read().replace('\\n',' **** ')\n",
    "    string=\"https://www.linkedin.com/in/vaibhav-bhilare\"\n",
    "    string_G=\"https://github.com/paragsal\"\n",
    "    #print(string)\n",
    "    result=check_email(data)\n",
    "    result_L=check_linkedin(data)\n",
    "    result_P=check_phone_number(data)\n",
    "    result_G=check_GitHub(data)\n",
    "    print(\"Email Address:\",result)\n",
    "    print(\"Contact Number:\",result_P)\n",
    "    print(\"Linkedin Profile:\",result_L)\n",
    "    print(\"GitHub Profile:\",result_G)\n",
    "    #print(data)\n",
    "main()"
   ]
  },
  {
   "cell_type": "code",
   "execution_count": null,
   "metadata": {
    "collapsed": true
   },
   "outputs": [],
   "source": []
  },
  {
   "cell_type": "code",
   "execution_count": null,
   "metadata": {
    "collapsed": true
   },
   "outputs": [],
   "source": []
  }
 ],
 "metadata": {
  "anaconda-cloud": {},
  "kernelspec": {
   "display_name": "parseVirt",
   "language": "python",
   "name": "parsevirt"
  },
  "language_info": {
   "codemirror_mode": {
    "name": "ipython",
    "version": 3
   },
   "file_extension": ".py",
   "mimetype": "text/x-python",
   "name": "python",
   "nbconvert_exporter": "python",
   "pygments_lexer": "ipython3",
   "version": "3.5.2"
  }
 },
 "nbformat": 4,
 "nbformat_minor": 1
}
